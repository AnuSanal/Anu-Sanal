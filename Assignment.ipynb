{
  "nbformat": 4,
  "nbformat_minor": 0,
  "metadata": {
    "colab": {
      "provenance": [],
      "collapsed_sections": [],
      "authorship_tag": "ABX9TyMHgoYRpXjobbNRusq5Ows4",
      "include_colab_link": true
    },
    "kernelspec": {
      "name": "python3",
      "display_name": "Python 3"
    },
    "language_info": {
      "name": "python"
    }
  },
  "cells": [
    {
      "cell_type": "markdown",
      "metadata": {
        "id": "view-in-github",
        "colab_type": "text"
      },
      "source": [
        "<a href=\"https://colab.research.google.com/github/AnuSanal/Anu-Sanal/blob/master/Assignment.ipynb\" target=\"_parent\"><img src=\"https://colab.research.google.com/assets/colab-badge.svg\" alt=\"Open In Colab\"/></a>"
      ]
    },
    {
      "cell_type": "code",
      "execution_count": 1,
      "metadata": {
        "id": "3F-4maM-3m9W"
      },
      "outputs": [],
      "source": [
        "import numpy as np \n",
        "import pandas as pd \n",
        "import matplotlib.pyplot as plt\n",
        "\n",
        "from sklearn.feature_extraction.text import TfidfVectorizer"
      ]
    },
    {
      "cell_type": "code",
      "source": [
        "df= pd.read_csv('BBC News.csv')"
      ],
      "metadata": {
        "id": "fyV07Uwl4C3X"
      },
      "execution_count": 2,
      "outputs": []
    },
    {
      "cell_type": "code",
      "source": [
        "df.shape"
      ],
      "metadata": {
        "colab": {
          "base_uri": "https://localhost:8080/"
        },
        "id": "bE492MCn4LWV",
        "outputId": "35dc6c7d-8851-406f-bef7-24da77e3cd38"
      },
      "execution_count": 3,
      "outputs": [
        {
          "output_type": "execute_result",
          "data": {
            "text/plain": [
              "(1490, 3)"
            ]
          },
          "metadata": {},
          "execution_count": 3
        }
      ]
    },
    {
      "cell_type": "code",
      "source": [
        "df.info()"
      ],
      "metadata": {
        "colab": {
          "base_uri": "https://localhost:8080/"
        },
        "id": "YoazGlc44PVK",
        "outputId": "9b24bf27-4041-4327-d642-243022e5141b"
      },
      "execution_count": 4,
      "outputs": [
        {
          "output_type": "stream",
          "name": "stdout",
          "text": [
            "<class 'pandas.core.frame.DataFrame'>\n",
            "RangeIndex: 1490 entries, 0 to 1489\n",
            "Data columns (total 3 columns):\n",
            " #   Column     Non-Null Count  Dtype \n",
            "---  ------     --------------  ----- \n",
            " 0   ArticleId  1490 non-null   int64 \n",
            " 1   Text       1490 non-null   object\n",
            " 2   Category   1490 non-null   object\n",
            "dtypes: int64(1), object(2)\n",
            "memory usage: 35.0+ KB\n"
          ]
        }
      ]
    },
    {
      "cell_type": "code",
      "source": [
        "df.isna().sum()"
      ],
      "metadata": {
        "colab": {
          "base_uri": "https://localhost:8080/"
        },
        "id": "dtg2uat84T8p",
        "outputId": "6f930ac1-8f3c-40a6-9f5a-2c18d3d59a1b"
      },
      "execution_count": 5,
      "outputs": [
        {
          "output_type": "execute_result",
          "data": {
            "text/plain": [
              "ArticleId    0\n",
              "Text         0\n",
              "Category     0\n",
              "dtype: int64"
            ]
          },
          "metadata": {},
          "execution_count": 5
        }
      ]
    },
    {
      "cell_type": "code",
      "source": [
        "from sklearn.model_selection import train_test_split\n",
        "\n",
        "\n",
        "X_train,X_test,y_train,y_test = train_test_split(X,y,random_state =178,test_size= 0.2)"
      ],
      "metadata": {
        "colab": {
          "base_uri": "https://localhost:8080/",
          "height": 207
        },
        "id": "iDTYUnwU4Zrk",
        "outputId": "613c3a28-c9bd-406e-953b-4a0110e627c5"
      },
      "execution_count": 6,
      "outputs": [
        {
          "output_type": "error",
          "ename": "NameError",
          "evalue": "ignored",
          "traceback": [
            "\u001b[0;31m---------------------------------------------------------------------------\u001b[0m",
            "\u001b[0;31mNameError\u001b[0m                                 Traceback (most recent call last)",
            "\u001b[0;32m<ipython-input-6-6f0a69cef7c4>\u001b[0m in \u001b[0;36m<module>\u001b[0;34m\u001b[0m\n\u001b[1;32m      2\u001b[0m \u001b[0;34m\u001b[0m\u001b[0m\n\u001b[1;32m      3\u001b[0m \u001b[0;34m\u001b[0m\u001b[0m\n\u001b[0;32m----> 4\u001b[0;31m \u001b[0mX_train\u001b[0m\u001b[0;34m,\u001b[0m\u001b[0mX_test\u001b[0m\u001b[0;34m,\u001b[0m\u001b[0my_train\u001b[0m\u001b[0;34m,\u001b[0m\u001b[0my_test\u001b[0m \u001b[0;34m=\u001b[0m \u001b[0mtrain_test_split\u001b[0m\u001b[0;34m(\u001b[0m\u001b[0mX\u001b[0m\u001b[0;34m,\u001b[0m\u001b[0my\u001b[0m\u001b[0;34m,\u001b[0m\u001b[0mrandom_state\u001b[0m \u001b[0;34m=\u001b[0m\u001b[0;36m178\u001b[0m\u001b[0;34m,\u001b[0m\u001b[0mtest_size\u001b[0m\u001b[0;34m=\u001b[0m \u001b[0;36m0.2\u001b[0m\u001b[0;34m)\u001b[0m\u001b[0;34m\u001b[0m\u001b[0;34m\u001b[0m\u001b[0m\n\u001b[0m",
            "\u001b[0;31mNameError\u001b[0m: name 'X' is not defined"
          ]
        }
      ]
    },
    {
      "cell_type": "code",
      "source": [
        "df['category_id'] = df['Category'].factorize()[0]"
      ],
      "metadata": {
        "id": "ZrbAnGnc474J"
      },
      "execution_count": 7,
      "outputs": []
    },
    {
      "cell_type": "code",
      "source": [
        "df['category_id'][0:10]"
      ],
      "metadata": {
        "colab": {
          "base_uri": "https://localhost:8080/"
        },
        "id": "rqQPl-u45I0V",
        "outputId": "c754aaba-01bd-48d9-b99f-3d924ba8158e"
      },
      "execution_count": 8,
      "outputs": [
        {
          "output_type": "execute_result",
          "data": {
            "text/plain": [
              "0    0\n",
              "1    0\n",
              "2    0\n",
              "3    1\n",
              "4    0\n",
              "5    2\n",
              "6    3\n",
              "7    4\n",
              "8    0\n",
              "9    4\n",
              "Name: category_id, dtype: int64"
            ]
          },
          "metadata": {},
          "execution_count": 8
        }
      ]
    },
    {
      "cell_type": "code",
      "source": [
        "category_id_df = df[['Category', 'category_id']].drop_duplicates().sort_values('category_id')"
      ],
      "metadata": {
        "id": "nvvJPiXx5Nb5"
      },
      "execution_count": 9,
      "outputs": []
    },
    {
      "cell_type": "code",
      "source": [
        "category_id_df"
      ],
      "metadata": {
        "colab": {
          "base_uri": "https://localhost:8080/",
          "height": 206
        },
        "id": "rnAiKoDn5TrT",
        "outputId": "67491c59-b5b5-48b0-bd66-0ea0331af610"
      },
      "execution_count": 10,
      "outputs": [
        {
          "output_type": "execute_result",
          "data": {
            "text/plain": [
              "        Category  category_id\n",
              "0       business            0\n",
              "3           tech            1\n",
              "5       politics            2\n",
              "6          sport            3\n",
              "7  entertainment            4"
            ],
            "text/html": [
              "\n",
              "  <div id=\"df-2864ec71-454e-4786-ba16-f121bae2582e\">\n",
              "    <div class=\"colab-df-container\">\n",
              "      <div>\n",
              "<style scoped>\n",
              "    .dataframe tbody tr th:only-of-type {\n",
              "        vertical-align: middle;\n",
              "    }\n",
              "\n",
              "    .dataframe tbody tr th {\n",
              "        vertical-align: top;\n",
              "    }\n",
              "\n",
              "    .dataframe thead th {\n",
              "        text-align: right;\n",
              "    }\n",
              "</style>\n",
              "<table border=\"1\" class=\"dataframe\">\n",
              "  <thead>\n",
              "    <tr style=\"text-align: right;\">\n",
              "      <th></th>\n",
              "      <th>Category</th>\n",
              "      <th>category_id</th>\n",
              "    </tr>\n",
              "  </thead>\n",
              "  <tbody>\n",
              "    <tr>\n",
              "      <th>0</th>\n",
              "      <td>business</td>\n",
              "      <td>0</td>\n",
              "    </tr>\n",
              "    <tr>\n",
              "      <th>3</th>\n",
              "      <td>tech</td>\n",
              "      <td>1</td>\n",
              "    </tr>\n",
              "    <tr>\n",
              "      <th>5</th>\n",
              "      <td>politics</td>\n",
              "      <td>2</td>\n",
              "    </tr>\n",
              "    <tr>\n",
              "      <th>6</th>\n",
              "      <td>sport</td>\n",
              "      <td>3</td>\n",
              "    </tr>\n",
              "    <tr>\n",
              "      <th>7</th>\n",
              "      <td>entertainment</td>\n",
              "      <td>4</td>\n",
              "    </tr>\n",
              "  </tbody>\n",
              "</table>\n",
              "</div>\n",
              "      <button class=\"colab-df-convert\" onclick=\"convertToInteractive('df-2864ec71-454e-4786-ba16-f121bae2582e')\"\n",
              "              title=\"Convert this dataframe to an interactive table.\"\n",
              "              style=\"display:none;\">\n",
              "        \n",
              "  <svg xmlns=\"http://www.w3.org/2000/svg\" height=\"24px\"viewBox=\"0 0 24 24\"\n",
              "       width=\"24px\">\n",
              "    <path d=\"M0 0h24v24H0V0z\" fill=\"none\"/>\n",
              "    <path d=\"M18.56 5.44l.94 2.06.94-2.06 2.06-.94-2.06-.94-.94-2.06-.94 2.06-2.06.94zm-11 1L8.5 8.5l.94-2.06 2.06-.94-2.06-.94L8.5 2.5l-.94 2.06-2.06.94zm10 10l.94 2.06.94-2.06 2.06-.94-2.06-.94-.94-2.06-.94 2.06-2.06.94z\"/><path d=\"M17.41 7.96l-1.37-1.37c-.4-.4-.92-.59-1.43-.59-.52 0-1.04.2-1.43.59L10.3 9.45l-7.72 7.72c-.78.78-.78 2.05 0 2.83L4 21.41c.39.39.9.59 1.41.59.51 0 1.02-.2 1.41-.59l7.78-7.78 2.81-2.81c.8-.78.8-2.07 0-2.86zM5.41 20L4 18.59l7.72-7.72 1.47 1.35L5.41 20z\"/>\n",
              "  </svg>\n",
              "      </button>\n",
              "      \n",
              "  <style>\n",
              "    .colab-df-container {\n",
              "      display:flex;\n",
              "      flex-wrap:wrap;\n",
              "      gap: 12px;\n",
              "    }\n",
              "\n",
              "    .colab-df-convert {\n",
              "      background-color: #E8F0FE;\n",
              "      border: none;\n",
              "      border-radius: 50%;\n",
              "      cursor: pointer;\n",
              "      display: none;\n",
              "      fill: #1967D2;\n",
              "      height: 32px;\n",
              "      padding: 0 0 0 0;\n",
              "      width: 32px;\n",
              "    }\n",
              "\n",
              "    .colab-df-convert:hover {\n",
              "      background-color: #E2EBFA;\n",
              "      box-shadow: 0px 1px 2px rgba(60, 64, 67, 0.3), 0px 1px 3px 1px rgba(60, 64, 67, 0.15);\n",
              "      fill: #174EA6;\n",
              "    }\n",
              "\n",
              "    [theme=dark] .colab-df-convert {\n",
              "      background-color: #3B4455;\n",
              "      fill: #D2E3FC;\n",
              "    }\n",
              "\n",
              "    [theme=dark] .colab-df-convert:hover {\n",
              "      background-color: #434B5C;\n",
              "      box-shadow: 0px 1px 3px 1px rgba(0, 0, 0, 0.15);\n",
              "      filter: drop-shadow(0px 1px 2px rgba(0, 0, 0, 0.3));\n",
              "      fill: #FFFFFF;\n",
              "    }\n",
              "  </style>\n",
              "\n",
              "      <script>\n",
              "        const buttonEl =\n",
              "          document.querySelector('#df-2864ec71-454e-4786-ba16-f121bae2582e button.colab-df-convert');\n",
              "        buttonEl.style.display =\n",
              "          google.colab.kernel.accessAllowed ? 'block' : 'none';\n",
              "\n",
              "        async function convertToInteractive(key) {\n",
              "          const element = document.querySelector('#df-2864ec71-454e-4786-ba16-f121bae2582e');\n",
              "          const dataTable =\n",
              "            await google.colab.kernel.invokeFunction('convertToInteractive',\n",
              "                                                     [key], {});\n",
              "          if (!dataTable) return;\n",
              "\n",
              "          const docLinkHtml = 'Like what you see? Visit the ' +\n",
              "            '<a target=\"_blank\" href=https://colab.research.google.com/notebooks/data_table.ipynb>data table notebook</a>'\n",
              "            + ' to learn more about interactive tables.';\n",
              "          element.innerHTML = '';\n",
              "          dataTable['output_type'] = 'display_data';\n",
              "          await google.colab.output.renderOutput(dataTable, element);\n",
              "          const docLink = document.createElement('div');\n",
              "          docLink.innerHTML = docLinkHtml;\n",
              "          element.appendChild(docLink);\n",
              "        }\n",
              "      </script>\n",
              "    </div>\n",
              "  </div>\n",
              "  "
            ]
          },
          "metadata": {},
          "execution_count": 10
        }
      ]
    },
    {
      "cell_type": "code",
      "source": [
        "category_to_id = dict(category_id_df.values)\n",
        "id_to_category = dict(category_id_df[['category_id', 'Category']].values)"
      ],
      "metadata": {
        "id": "rPKkF6lx5W-m"
      },
      "execution_count": 11,
      "outputs": []
    },
    {
      "cell_type": "code",
      "source": [
        "id_to_category"
      ],
      "metadata": {
        "colab": {
          "base_uri": "https://localhost:8080/"
        },
        "id": "q76bBkVf5bkU",
        "outputId": "95337423-7c37-490c-92cd-8a347256f3c3"
      },
      "execution_count": 12,
      "outputs": [
        {
          "output_type": "execute_result",
          "data": {
            "text/plain": [
              "{0: 'business', 1: 'tech', 2: 'politics', 3: 'sport', 4: 'entertainment'}"
            ]
          },
          "metadata": {},
          "execution_count": 12
        }
      ]
    },
    {
      "cell_type": "code",
      "source": [
        "df.sample(5, random_state=0)"
      ],
      "metadata": {
        "colab": {
          "base_uri": "https://localhost:8080/",
          "height": 206
        },
        "id": "uzhHB7bP5eHo",
        "outputId": "2f96231e-0a3a-45ad-ff2e-e8d58ee6f9d0"
      },
      "execution_count": 13,
      "outputs": [
        {
          "output_type": "execute_result",
          "data": {
            "text/plain": [
              "      ArticleId                                               Text  \\\n",
              "9          1866  fockers fuel festive film chart comedy meet th...   \n",
              "354        1349  tory candidate quits over remark a conservativ...   \n",
              "1227       1572  bath faced with tindall ultimatum mike tindall...   \n",
              "907        1155  chancellor rallies labour voters gordon brown ...   \n",
              "575         307  young debut cut short by ginepri fifteen-year-...   \n",
              "\n",
              "           Category  category_id  \n",
              "9     entertainment            4  \n",
              "354        politics            2  \n",
              "1227          sport            3  \n",
              "907        politics            2  \n",
              "575           sport            3  "
            ],
            "text/html": [
              "\n",
              "  <div id=\"df-b63747ef-52e2-4b53-964b-6a8deda2a62f\">\n",
              "    <div class=\"colab-df-container\">\n",
              "      <div>\n",
              "<style scoped>\n",
              "    .dataframe tbody tr th:only-of-type {\n",
              "        vertical-align: middle;\n",
              "    }\n",
              "\n",
              "    .dataframe tbody tr th {\n",
              "        vertical-align: top;\n",
              "    }\n",
              "\n",
              "    .dataframe thead th {\n",
              "        text-align: right;\n",
              "    }\n",
              "</style>\n",
              "<table border=\"1\" class=\"dataframe\">\n",
              "  <thead>\n",
              "    <tr style=\"text-align: right;\">\n",
              "      <th></th>\n",
              "      <th>ArticleId</th>\n",
              "      <th>Text</th>\n",
              "      <th>Category</th>\n",
              "      <th>category_id</th>\n",
              "    </tr>\n",
              "  </thead>\n",
              "  <tbody>\n",
              "    <tr>\n",
              "      <th>9</th>\n",
              "      <td>1866</td>\n",
              "      <td>fockers fuel festive film chart comedy meet th...</td>\n",
              "      <td>entertainment</td>\n",
              "      <td>4</td>\n",
              "    </tr>\n",
              "    <tr>\n",
              "      <th>354</th>\n",
              "      <td>1349</td>\n",
              "      <td>tory candidate quits over remark a conservativ...</td>\n",
              "      <td>politics</td>\n",
              "      <td>2</td>\n",
              "    </tr>\n",
              "    <tr>\n",
              "      <th>1227</th>\n",
              "      <td>1572</td>\n",
              "      <td>bath faced with tindall ultimatum mike tindall...</td>\n",
              "      <td>sport</td>\n",
              "      <td>3</td>\n",
              "    </tr>\n",
              "    <tr>\n",
              "      <th>907</th>\n",
              "      <td>1155</td>\n",
              "      <td>chancellor rallies labour voters gordon brown ...</td>\n",
              "      <td>politics</td>\n",
              "      <td>2</td>\n",
              "    </tr>\n",
              "    <tr>\n",
              "      <th>575</th>\n",
              "      <td>307</td>\n",
              "      <td>young debut cut short by ginepri fifteen-year-...</td>\n",
              "      <td>sport</td>\n",
              "      <td>3</td>\n",
              "    </tr>\n",
              "  </tbody>\n",
              "</table>\n",
              "</div>\n",
              "      <button class=\"colab-df-convert\" onclick=\"convertToInteractive('df-b63747ef-52e2-4b53-964b-6a8deda2a62f')\"\n",
              "              title=\"Convert this dataframe to an interactive table.\"\n",
              "              style=\"display:none;\">\n",
              "        \n",
              "  <svg xmlns=\"http://www.w3.org/2000/svg\" height=\"24px\"viewBox=\"0 0 24 24\"\n",
              "       width=\"24px\">\n",
              "    <path d=\"M0 0h24v24H0V0z\" fill=\"none\"/>\n",
              "    <path d=\"M18.56 5.44l.94 2.06.94-2.06 2.06-.94-2.06-.94-.94-2.06-.94 2.06-2.06.94zm-11 1L8.5 8.5l.94-2.06 2.06-.94-2.06-.94L8.5 2.5l-.94 2.06-2.06.94zm10 10l.94 2.06.94-2.06 2.06-.94-2.06-.94-.94-2.06-.94 2.06-2.06.94z\"/><path d=\"M17.41 7.96l-1.37-1.37c-.4-.4-.92-.59-1.43-.59-.52 0-1.04.2-1.43.59L10.3 9.45l-7.72 7.72c-.78.78-.78 2.05 0 2.83L4 21.41c.39.39.9.59 1.41.59.51 0 1.02-.2 1.41-.59l7.78-7.78 2.81-2.81c.8-.78.8-2.07 0-2.86zM5.41 20L4 18.59l7.72-7.72 1.47 1.35L5.41 20z\"/>\n",
              "  </svg>\n",
              "      </button>\n",
              "      \n",
              "  <style>\n",
              "    .colab-df-container {\n",
              "      display:flex;\n",
              "      flex-wrap:wrap;\n",
              "      gap: 12px;\n",
              "    }\n",
              "\n",
              "    .colab-df-convert {\n",
              "      background-color: #E8F0FE;\n",
              "      border: none;\n",
              "      border-radius: 50%;\n",
              "      cursor: pointer;\n",
              "      display: none;\n",
              "      fill: #1967D2;\n",
              "      height: 32px;\n",
              "      padding: 0 0 0 0;\n",
              "      width: 32px;\n",
              "    }\n",
              "\n",
              "    .colab-df-convert:hover {\n",
              "      background-color: #E2EBFA;\n",
              "      box-shadow: 0px 1px 2px rgba(60, 64, 67, 0.3), 0px 1px 3px 1px rgba(60, 64, 67, 0.15);\n",
              "      fill: #174EA6;\n",
              "    }\n",
              "\n",
              "    [theme=dark] .colab-df-convert {\n",
              "      background-color: #3B4455;\n",
              "      fill: #D2E3FC;\n",
              "    }\n",
              "\n",
              "    [theme=dark] .colab-df-convert:hover {\n",
              "      background-color: #434B5C;\n",
              "      box-shadow: 0px 1px 3px 1px rgba(0, 0, 0, 0.15);\n",
              "      filter: drop-shadow(0px 1px 2px rgba(0, 0, 0, 0.3));\n",
              "      fill: #FFFFFF;\n",
              "    }\n",
              "  </style>\n",
              "\n",
              "      <script>\n",
              "        const buttonEl =\n",
              "          document.querySelector('#df-b63747ef-52e2-4b53-964b-6a8deda2a62f button.colab-df-convert');\n",
              "        buttonEl.style.display =\n",
              "          google.colab.kernel.accessAllowed ? 'block' : 'none';\n",
              "\n",
              "        async function convertToInteractive(key) {\n",
              "          const element = document.querySelector('#df-b63747ef-52e2-4b53-964b-6a8deda2a62f');\n",
              "          const dataTable =\n",
              "            await google.colab.kernel.invokeFunction('convertToInteractive',\n",
              "                                                     [key], {});\n",
              "          if (!dataTable) return;\n",
              "\n",
              "          const docLinkHtml = 'Like what you see? Visit the ' +\n",
              "            '<a target=\"_blank\" href=https://colab.research.google.com/notebooks/data_table.ipynb>data table notebook</a>'\n",
              "            + ' to learn more about interactive tables.';\n",
              "          element.innerHTML = '';\n",
              "          dataTable['output_type'] = 'display_data';\n",
              "          await google.colab.output.renderOutput(dataTable, element);\n",
              "          const docLink = document.createElement('div');\n",
              "          docLink.innerHTML = docLinkHtml;\n",
              "          element.appendChild(docLink);\n",
              "        }\n",
              "      </script>\n",
              "    </div>\n",
              "  </div>\n",
              "  "
            ]
          },
          "metadata": {},
          "execution_count": 13
        }
      ]
    },
    {
      "cell_type": "code",
      "source": [
        "df.groupby('Category').category_id.count()"
      ],
      "metadata": {
        "colab": {
          "base_uri": "https://localhost:8080/"
        },
        "id": "5YCreIqV5iBu",
        "outputId": "505e262a-c560-4d24-e106-1ecd064e479a"
      },
      "execution_count": 14,
      "outputs": [
        {
          "output_type": "execute_result",
          "data": {
            "text/plain": [
              "Category\n",
              "business         336\n",
              "entertainment    273\n",
              "politics         274\n",
              "sport            346\n",
              "tech             261\n",
              "Name: category_id, dtype: int64"
            ]
          },
          "metadata": {},
          "execution_count": 14
        }
      ]
    },
    {
      "cell_type": "code",
      "source": [
        "df.groupby('Category').category_id.count().plot.bar(ylim=0)"
      ],
      "metadata": {
        "colab": {
          "base_uri": "https://localhost:8080/",
          "height": 359
        },
        "id": "aSf4_J_P5l_9",
        "outputId": "77991130-2706-403c-8d80-e84512f34722"
      },
      "execution_count": 15,
      "outputs": [
        {
          "output_type": "execute_result",
          "data": {
            "text/plain": [
              "<matplotlib.axes._subplots.AxesSubplot at 0x7f771d528fd0>"
            ]
          },
          "metadata": {},
          "execution_count": 15
        },
        {
          "output_type": "display_data",
          "data": {
            "text/plain": [
              "<Figure size 432x288 with 1 Axes>"
            ],
            "image/png": "[encoded data removed]"
          },
          "metadata": {
            "needs_background": "light"
          }
        }
      ]
    },
    {
      "cell_type": "code",
      "source": [
        "from sklearn.feature_extraction.text import TfidfVectorizer\n",
        "\n",
        "tfidf = TfidfVectorizer(sublinear_tf=True, min_df=5, norm='l2', encoding='latin-1', ngram_range=(1, 2), stop_words='english')\n",
        "\n",
        "features = tfidf.fit_transform(df.Text).toarray() \n",
        "labels = df.category_id"
      ],
      "metadata": {
        "id": "1GRH_eiT5rkz"
      },
      "execution_count": 16,
      "outputs": []
    },
    {
      "cell_type": "code",
      "source": [
        "features.shape"
      ],
      "metadata": {
        "colab": {
          "base_uri": "https://localhost:8080/"
        },
        "id": "FiBNAZfL6Cj7",
        "outputId": "141de7d0-1152-42c7-fe01-ccb6edc20429"
      },
      "execution_count": 17,
      "outputs": [
        {
          "output_type": "execute_result",
          "data": {
            "text/plain": [
              "(1490, 9927)"
            ]
          },
          "metadata": {},
          "execution_count": 17
        }
      ]
    },
    {
      "cell_type": "code",
      "source": [
        "category_to_id.items()"
      ],
      "metadata": {
        "colab": {
          "base_uri": "https://localhost:8080/"
        },
        "id": "aLdvfEO86Ft5",
        "outputId": "566d9808-dde8-486c-ae90-0a8cd0fa78fe"
      },
      "execution_count": 18,
      "outputs": [
        {
          "output_type": "execute_result",
          "data": {
            "text/plain": [
              "dict_items([('business', 0), ('tech', 1), ('politics', 2), ('sport', 3), ('entertainment', 4)])"
            ]
          },
          "metadata": {},
          "execution_count": 18
        }
      ]
    },
    {
      "cell_type": "code",
      "source": [
        "sorted(category_to_id.items())"
      ],
      "metadata": {
        "colab": {
          "base_uri": "https://localhost:8080/"
        },
        "id": "gYuneXCp6Kdp",
        "outputId": "e50f9886-9d7d-49b6-c03f-dd5751343859"
      },
      "execution_count": 19,
      "outputs": [
        {
          "output_type": "execute_result",
          "data": {
            "text/plain": [
              "[('business', 0),\n",
              " ('entertainment', 4),\n",
              " ('politics', 2),\n",
              " ('sport', 3),\n",
              " ('tech', 1)]"
            ]
          },
          "metadata": {},
          "execution_count": 19
        }
      ]
    },
    {
      "cell_type": "code",
      "source": [
        "from sklearn.feature_selection import chi2\n",
        "\n",
        "N = 3  \n",
        "for Category, category_id in sorted(category_to_id.items()):\n",
        "  features_chi2 = chi2(features, labels == category_id)                   \n",
        "  indices = np.argsort(features_chi2[0])                                 \n",
        "  feature_names = np.array(tfidf.get_feature_names())[indices]           \n",
        "  unigrams = [v for v in feature_names if len(v.split(' ')) == 1]         \n",
        "  bigrams = [v for v in feature_names if len(v.split(' ')) == 2]          \n",
        "  print(\"# '{}':\".format(Category))\n",
        "  print(\"  . Most correlated unigrams:\\n       . {}\".format('\\n       . '.join(unigrams[-N:]))) \n",
        "  print(\"  . Most correlated bigrams:\\n       . {}\".format('\\n       . '.join(bigrams[-N:]))) "
      ],
      "metadata": {
        "colab": {
          "base_uri": "https://localhost:8080/"
        },
        "id": "32pcr9pc6NjG",
        "outputId": "46c58bd0-f910-4855-e817-601621e234da"
      },
      "execution_count": 20,
      "outputs": [
        {
          "output_type": "stream",
          "name": "stderr",
          "text": [
            "/usr/local/lib/python3.7/dist-packages/sklearn/utils/deprecation.py:87: FutureWarning: Function get_feature_names is deprecated; get_feature_names is deprecated in 1.0 and will be removed in 1.2. Please use get_feature_names_out instead.\n",
            "  warnings.warn(msg, category=FutureWarning)\n",
            "/usr/local/lib/python3.7/dist-packages/sklearn/utils/deprecation.py:87: FutureWarning: Function get_feature_names is deprecated; get_feature_names is deprecated in 1.0 and will be removed in 1.2. Please use get_feature_names_out instead.\n",
            "  warnings.warn(msg, category=FutureWarning)\n"
          ]
        },
        {
          "output_type": "stream",
          "name": "stdout",
          "text": [
            "# 'business':\n",
            "  . Most correlated unigrams:\n",
            "       . growth\n",
            "       . bank\n",
            "       . shares\n",
            "  . Most correlated bigrams:\n",
            "       . stock market\n",
            "       . economic growth\n",
            "       . analysts said\n",
            "# 'entertainment':\n",
            "  . Most correlated unigrams:\n",
            "       . singer\n",
            "       . actor\n",
            "       . film\n",
            "  . Most correlated bigrams:\n",
            "       . won best\n",
            "       . los angeles\n",
            "       . box office\n"
          ]
        },
        {
          "output_type": "stream",
          "name": "stderr",
          "text": [
            "/usr/local/lib/python3.7/dist-packages/sklearn/utils/deprecation.py:87: FutureWarning: Function get_feature_names is deprecated; get_feature_names is deprecated in 1.0 and will be removed in 1.2. Please use get_feature_names_out instead.\n",
            "  warnings.warn(msg, category=FutureWarning)\n",
            "/usr/local/lib/python3.7/dist-packages/sklearn/utils/deprecation.py:87: FutureWarning: Function get_feature_names is deprecated; get_feature_names is deprecated in 1.0 and will be removed in 1.2. Please use get_feature_names_out instead.\n",
            "  warnings.warn(msg, category=FutureWarning)\n"
          ]
        },
        {
          "output_type": "stream",
          "name": "stdout",
          "text": [
            "# 'politics':\n",
            "  . Most correlated unigrams:\n",
            "       . blair\n",
            "       . election\n",
            "       . labour\n",
            "  . Most correlated bigrams:\n",
            "       . prime minister\n",
            "       . tony blair\n",
            "       . mr blair\n",
            "# 'sport':\n",
            "  . Most correlated unigrams:\n",
            "       . match\n",
            "       . coach\n",
            "       . cup\n",
            "  . Most correlated bigrams:\n",
            "       . grand slam\n",
            "       . champions league\n",
            "       . australian open\n",
            "# 'tech':\n",
            "  . Most correlated unigrams:\n",
            "       . technology\n",
            "       . software\n",
            "       . users\n",
            "  . Most correlated bigrams:\n",
            "       . anti virus\n",
            "       . mobile phones\n",
            "       . mobile phone\n"
          ]
        },
        {
          "output_type": "stream",
          "name": "stderr",
          "text": [
            "/usr/local/lib/python3.7/dist-packages/sklearn/utils/deprecation.py:87: FutureWarning: Function get_feature_names is deprecated; get_feature_names is deprecated in 1.0 and will be removed in 1.2. Please use get_feature_names_out instead.\n",
            "  warnings.warn(msg, category=FutureWarning)\n"
          ]
        }
      ]
    },
    {
      "cell_type": "code",
      "source": [
        "features_chi2"
      ],
      "metadata": {
        "colab": {
          "base_uri": "https://localhost:8080/"
        },
        "id": "KE9OAVy16en4",
        "outputId": "17e1d3e7-835b-430d-8bb7-8f9959cdcfdb"
      },
      "execution_count": 21,
      "outputs": [
        {
          "output_type": "execute_result",
          "data": {
            "text/plain": [
              "(array([0.13345481, 0.01563765, 0.00108776, ..., 0.00812363, 0.15434356,\n",
              "        0.120306  ]),\n",
              " array([0.71487652, 0.9004835 , 0.97368962, ..., 0.92818297, 0.69441858,\n",
              "        0.72870284]))"
            ]
          },
          "metadata": {},
          "execution_count": 21
        }
      ]
    },
    {
      "cell_type": "code",
      "source": [
        "from sklearn.manifold import TSNE\n",
        "\n",
        "\n",
        "SAMPLE_SIZE = int(len(features) * 0.3)\n",
        "np.random.seed(0)\n",
        "indices = np.random.choice(range(len(features)), size=SAMPLE_SIZE, replace=False)          \n",
        "projected_features = TSNE(n_components=2, random_state=0).fit_transform(features[indices])"
      ],
      "metadata": {
        "colab": {
          "base_uri": "https://localhost:8080/"
        },
        "id": "Jy6VJQ-l6g0I",
        "outputId": "77989285-acbc-4cd7-c662-92a4e82c504a"
      },
      "execution_count": 23,
      "outputs": [
        {
          "output_type": "stream",
          "name": "stderr",
          "text": [
            "/usr/local/lib/python3.7/dist-packages/sklearn/manifold/_t_sne.py:783: FutureWarning: The default initialization in TSNE will change from 'random' to 'pca' in 1.2.\n",
            "  FutureWarning,\n",
            "/usr/local/lib/python3.7/dist-packages/sklearn/manifold/_t_sne.py:793: FutureWarning: The default learning rate in TSNE will change from 200.0 to 'auto' in 1.2.\n",
            "  FutureWarning,\n"
          ]
        }
      ]
    },
    {
      "cell_type": "code",
      "source": [
        "type(projected_features)"
      ],
      "metadata": {
        "colab": {
          "base_uri": "https://localhost:8080/"
        },
        "id": "HNdXof0V6mMJ",
        "outputId": "47eca1ce-d765-48fb-9768-f56c1ce589e7"
      },
      "execution_count": 24,
      "outputs": [
        {
          "output_type": "execute_result",
          "data": {
            "text/plain": [
              "numpy.ndarray"
            ]
          },
          "metadata": {},
          "execution_count": 24
        }
      ]
    },
    {
      "cell_type": "code",
      "source": [
        "my_id = 0 \n",
        "projected_features[(labels[indices] == my_id).values]"
      ],
      "metadata": {
        "colab": {
          "base_uri": "https://localhost:8080/"
        },
        "id": "IMOHSMYl6urz",
        "outputId": "0e657270-d3b1-4971-b272-1b5573c21ab3"
      },
      "execution_count": 25,
      "outputs": [
        {
          "output_type": "execute_result",
          "data": {
            "text/plain": [
              "array([[-4.13286686e+00, -9.20892525e+00],\n",
              "       [ 4.44985104e+00,  1.30575931e+00],\n",
              "       [ 7.39399910e+00, -1.22784491e+01],\n",
              "       [ 1.59464378e+01, -4.11092138e+00],\n",
              "       [ 1.44705992e+01, -2.87031727e+01],\n",
              "       [ 1.26260519e+01, -2.34371829e+00],\n",
              "       [-4.94337034e+00,  4.33154964e+00],\n",
              "       [ 1.27926292e+01, -2.40895197e-01],\n",
              "       [ 2.11887150e+01, -4.63770106e-02],\n",
              "       [ 9.60490513e+00, -4.14878511e+00],\n",
              "       [ 6.92501143e-02, -1.80034428e+01],\n",
              "       [ 5.69708633e+00, -7.60759878e+00],\n",
              "       [ 2.77500877e+01,  1.80671978e+01],\n",
              "       [ 1.65667713e+00, -4.33841705e+00],\n",
              "       [ 1.82398529e+01, -5.45124149e+00],\n",
              "       [ 5.64697361e+00, -6.05977535e+00],\n",
              "       [ 5.02676773e+00,  5.62201440e-02],\n",
              "       [ 1.46825180e+01, -1.95173347e+00],\n",
              "       [ 5.08124173e-01, -8.35781860e+00],\n",
              "       [-1.57865810e+00,  4.48549318e+00],\n",
              "       [ 1.05475798e+01,  7.59943342e+00],\n",
              "       [-2.92681146e+00, -2.31089449e+00],\n",
              "       [ 7.57700491e+00, -1.17490501e+01],\n",
              "       [ 3.74491525e+00, -1.01129103e+00],\n",
              "       [ 8.17872334e+00,  1.62125278e+00],\n",
              "       [-1.72472322e+00,  2.67314136e-01],\n",
              "       [-9.85919833e-01, -3.62040067e+00],\n",
              "       [-1.23933762e-01,  1.38232040e+00],\n",
              "       [ 5.26085901e+00,  8.65297437e-01],\n",
              "       [-2.41982281e-01,  1.77449298e+00],\n",
              "       [ 3.66874862e+00, -3.93007922e+00],\n",
              "       [-4.67927361e+00, -2.54277515e+00],\n",
              "       [ 9.60601044e+00, -1.82719958e+00],\n",
              "       [ 1.53942213e+01, -1.20785608e+01],\n",
              "       [ 4.90322065e+00, -8.13094521e+00],\n",
              "       [ 1.35692139e+01,  1.01418293e+00],\n",
              "       [-6.28940582e+00, -7.48950863e+00],\n",
              "       [ 8.24732018e+00, -9.95738316e+00],\n",
              "       [ 1.13911362e+01, -6.52351379e+00],\n",
              "       [ 1.69698124e+01, -5.27652311e+00],\n",
              "       [ 1.04623995e+01, -1.09273205e+01],\n",
              "       [ 7.07171345e+00,  2.12492394e+00],\n",
              "       [ 1.33893051e+01, -2.36226869e+00],\n",
              "       [ 1.09065056e+01, -1.00681295e+01],\n",
              "       [-3.18908906e+00,  3.03750539e+00],\n",
              "       [ 1.99039197e+00, -3.20244360e+00],\n",
              "       [ 4.22282839e+00,  4.02527046e+00],\n",
              "       [ 8.20647335e+00, -1.62956214e+00],\n",
              "       [ 1.54350004e+01, -1.21858110e+01],\n",
              "       [ 1.93815804e+01, -5.08848429e+00],\n",
              "       [ 6.30059671e+00, -1.08611002e+01],\n",
              "       [-7.86636055e-01, -6.00155115e+00],\n",
              "       [-5.45754075e-01, -1.64873707e+00],\n",
              "       [ 1.71689987e+01,  5.00228214e+00],\n",
              "       [ 4.63474989e+00,  4.97417784e+00],\n",
              "       [ 8.27030087e+00, -4.95070887e+00],\n",
              "       [ 1.28817616e+01, -6.13850832e+00],\n",
              "       [-4.53710175e+00, -2.81150174e+00],\n",
              "       [ 1.91074944e+01, -4.26986885e+00],\n",
              "       [ 2.92537136e+01,  8.23937321e+00],\n",
              "       [ 4.89676094e+00,  5.55507946e+00],\n",
              "       [-9.00224507e-01,  4.22813320e+00],\n",
              "       [ 1.34064322e+01, -2.89512329e+01],\n",
              "       [ 8.77964878e+00, -1.19987440e+01],\n",
              "       [ 1.73131504e+01, -2.31135917e+00],\n",
              "       [-4.77663565e+00, -5.72502041e+00],\n",
              "       [ 1.03030224e+01, -9.30210018e+00],\n",
              "       [-3.96535969e+00, -9.00294876e+00],\n",
              "       [ 1.09504194e+01,  1.23691177e+00],\n",
              "       [-5.52406549e+00,  8.80303442e-01],\n",
              "       [-2.29425645e+00,  5.84960175e+00],\n",
              "       [ 1.42498708e+00,  4.36223221e+00],\n",
              "       [ 2.53187990e+00, -6.09220314e+00],\n",
              "       [ 8.49839926e-01,  1.52249968e+00],\n",
              "       [-6.00401974e+00, -4.53741264e+00],\n",
              "       [ 1.46174824e+00, -2.35161614e+00],\n",
              "       [ 1.18578396e+01, -3.08620358e+00],\n",
              "       [ 2.01734424e+00, -5.71118498e+00],\n",
              "       [-1.26901209e+00, -6.25332689e+00],\n",
              "       [-2.88917613e+00, -8.00225544e+00],\n",
              "       [ 2.08751945e+01,  3.98601937e+00],\n",
              "       [ 3.00984120e+00, -1.03665371e+01],\n",
              "       [ 1.19472761e+01, -1.27164245e-01],\n",
              "       [ 1.34630041e+01, -7.14467764e+00],\n",
              "       [ 9.37811089e+00, -8.98458099e+00],\n",
              "       [ 8.13284588e+00, -6.98584747e+00],\n",
              "       [ 1.83495579e+01, -1.97599344e-02],\n",
              "       [ 1.58903284e+01, -9.98729992e+00],\n",
              "       [-4.34887743e+00, -6.37211037e+00],\n",
              "       [ 7.72962952e+00, -5.27952766e+00],\n",
              "       [ 2.07882156e+01,  9.68814362e-03],\n",
              "       [-7.75899172e-01, -2.15144634e+00],\n",
              "       [ 6.66337872e+00, -3.16092110e+00],\n",
              "       [ 3.56523305e-01, -8.43545341e+00],\n",
              "       [ 1.63113327e+01, -4.83354664e+00],\n",
              "       [-3.23985839e+00,  6.36823225e+00],\n",
              "       [-3.59433591e-01,  6.13342571e+00],\n",
              "       [ 4.23926592e+00, -9.08475113e+00],\n",
              "       [-4.85734367e+00,  4.46933317e+00],\n",
              "       [ 1.00322313e+01, -2.49963570e+01],\n",
              "       [-5.37430668e+00,  1.18886423e+00],\n",
              "       [ 1.51958447e+01,  3.85470897e-01],\n",
              "       [ 1.55779743e+01,  1.81420898e+00]], dtype=float32)"
            ]
          },
          "metadata": {},
          "execution_count": 25
        }
      ]
    },
    {
      "cell_type": "code",
      "source": [
        "colors = ['pink', 'green', 'midnightblue', 'orange', 'darkgrey']\n",
        "\n",
        "\n",
        "\n",
        "for category, category_id in sorted(category_to_id.items()):\n",
        "    points = projected_features[(labels[indices] == category_id).values]\n",
        "    plt.scatter(points[:, 0], points[:, 1], s=30, c=colors[category_id], label=category)\n",
        "plt.title(\"tf-idf feature vector for each article, projected on 2 dimensions.\",\n",
        "          fontdict=dict(fontsize=15))\n",
        "plt.legend()"
      ],
      "metadata": {
        "colab": {
          "base_uri": "https://localhost:8080/",
          "height": 301
        },
        "id": "abESl4Eq6_FI",
        "outputId": "8dc9efc5-c8c2-47b2-c608-bcc43d049fb3"
      },
      "execution_count": 26,
      "outputs": [
        {
          "output_type": "execute_result",
          "data": {
            "text/plain": [
              "<matplotlib.legend.Legend at 0x7f771b7e3310>"
            ]
          },
          "metadata": {},
          "execution_count": 26
        },
        {
          "output_type": "display_data",
          "data": {
            "text/plain": [
              "<Figure size 432x288 with 1 Axes>"
            ],
            "image/png": "[encoded data removed]"
          },
          "metadata": {
            "needs_background": "light"
          }
        }
      ]
    },
    {
      "cell_type": "code",
      "source": [
        "from sklearn.linear_model import LogisticRegression\n",
        "from sklearn.ensemble import RandomForestClassifier\n",
        "from sklearn.naive_bayes import MultinomialNB\n",
        "\n",
        "from sklearn.model_selection import cross_val_score\n",
        "\n",
        "\n",
        "models = [\n",
        "    RandomForestClassifier(n_estimators=200, max_depth=3, random_state=0),\n",
        "    MultinomialNB(),\n",
        "    LogisticRegression(random_state=0),\n",
        "]"
      ],
      "metadata": {
        "id": "GohQ9Ppf7Ihr"
      },
      "execution_count": 27,
      "outputs": []
    },
    {
      "cell_type": "code",
      "source": [
        "CV = 5  \n",
        "cv_df = pd.DataFrame(index=range(CV * len(models)))\n",
        "entries = [] "
      ],
      "metadata": {
        "id": "m6KCj__w7M7T"
      },
      "execution_count": 28,
      "outputs": []
    },
    {
      "cell_type": "code",
      "source": [
        "for model in models:\n",
        "  model_name = model.__class__.__name__\n",
        "  accuracies = cross_val_score(model, features, labels, scoring='accuracy', cv=CV)\n",
        "  for fold_idx, accuracy in enumerate(accuracies):\n",
        "    entries.append((model_name, fold_idx, accuracy))"
      ],
      "metadata": {
        "id": "bungK5Uw7VmA"
      },
      "execution_count": 29,
      "outputs": []
    },
    {
      "cell_type": "code",
      "source": [
        "cv_df = pd.DataFrame(entries, columns=['model_name', 'fold_idx', 'accuracy'])"
      ],
      "metadata": {
        "id": "51sQbxqs7fAe"
      },
      "execution_count": 30,
      "outputs": []
    },
    {
      "cell_type": "code",
      "source": [
        "import seaborn as sns\n",
        "\n",
        "sns.boxplot(x='model_name', y='accuracy', data=cv_df)\n",
        "sns.stripplot(x='model_name', y='accuracy', data=cv_df, \n",
        "              size=8, jitter=True, edgecolor=\"gray\", linewidth=2)"
      ],
      "metadata": {
        "colab": {
          "base_uri": "https://localhost:8080/",
          "height": 298
        },
        "id": "aSrokYYK7jpP",
        "outputId": "a9aa664e-9236-4307-ea2f-da3604f9da8a"
      },
      "execution_count": 31,
      "outputs": [
        {
          "output_type": "execute_result",
          "data": {
            "text/plain": [
              "<matplotlib.axes._subplots.AxesSubplot at 0x7f771b623fd0>"
            ]
          },
          "metadata": {},
          "execution_count": 31
        },
        {
          "output_type": "display_data",
          "data": {
            "text/plain": [
              "<Figure size 432x288 with 1 Axes>"
            ],
            "image/png": "[encoded data removed]"
          },
          "metadata": {
            "needs_background": "light"
          }
        }
      ]
    },
    {
      "cell_type": "code",
      "source": [
        "cv_df.groupby('model_name').accuracy.mean()"
      ],
      "metadata": {
        "colab": {
          "base_uri": "https://localhost:8080/"
        },
        "id": "7q-ADSP_7qyA",
        "outputId": "520d5358-4cb7-4d88-8963-0bad1415ab5c"
      },
      "execution_count": 32,
      "outputs": [
        {
          "output_type": "execute_result",
          "data": {
            "text/plain": [
              "model_name\n",
              "LogisticRegression        0.975168\n",
              "MultinomialNB             0.972483\n",
              "RandomForestClassifier    0.848322\n",
              "Name: accuracy, dtype: float64"
            ]
          },
          "metadata": {},
          "execution_count": 32
        }
      ]
    },
    {
      "cell_type": "code",
      "source": [
        "cv_df"
      ],
      "metadata": {
        "colab": {
          "base_uri": "https://localhost:8080/",
          "height": 520
        },
        "id": "R6pYhXmC7rhj",
        "outputId": "9b161efb-4e7f-4715-9e29-8bf32071b02a"
      },
      "execution_count": 33,
      "outputs": [
        {
          "output_type": "execute_result",
          "data": {
            "text/plain": [
              "                model_name  fold_idx  accuracy\n",
              "0   RandomForestClassifier         0  0.838926\n",
              "1   RandomForestClassifier         1  0.818792\n",
              "2   RandomForestClassifier         2  0.828859\n",
              "3   RandomForestClassifier         3  0.875839\n",
              "4   RandomForestClassifier         4  0.879195\n",
              "5            MultinomialNB         0  0.969799\n",
              "6            MultinomialNB         1  0.959732\n",
              "7            MultinomialNB         2  0.983221\n",
              "8            MultinomialNB         3  0.979866\n",
              "9            MultinomialNB         4  0.969799\n",
              "10      LogisticRegression         0  0.973154\n",
              "11      LogisticRegression         1  0.963087\n",
              "12      LogisticRegression         2  0.983221\n",
              "13      LogisticRegression         3  0.979866\n",
              "14      LogisticRegression         4  0.976510"
            ],
            "text/html": [
              "\n",
              "  <div id=\"df-dbdeb9c9-8fd9-4c4f-a0f4-233c4469ff0e\">\n",
              "    <div class=\"colab-df-container\">\n",
              "      <div>\n",
              "<style scoped>\n",
              "    .dataframe tbody tr th:only-of-type {\n",
              "        vertical-align: middle;\n",
              "    }\n",
              "\n",
              "    .dataframe tbody tr th {\n",
              "        vertical-align: top;\n",
              "    }\n",
              "\n",
              "    .dataframe thead th {\n",
              "        text-align: right;\n",
              "    }\n",
              "</style>\n",
              "<table border=\"1\" class=\"dataframe\">\n",
              "  <thead>\n",
              "    <tr style=\"text-align: right;\">\n",
              "      <th></th>\n",
              "      <th>model_name</th>\n",
              "      <th>fold_idx</th>\n",
              "      <th>accuracy</th>\n",
              "    </tr>\n",
              "  </thead>\n",
              "  <tbody>\n",
              "    <tr>\n",
              "      <th>0</th>\n",
              "      <td>RandomForestClassifier</td>\n",
              "      <td>0</td>\n",
              "      <td>0.838926</td>\n",
              "    </tr>\n",
              "    <tr>\n",
              "      <th>1</th>\n",
              "      <td>RandomForestClassifier</td>\n",
              "      <td>1</td>\n",
              "      <td>0.818792</td>\n",
              "    </tr>\n",
              "    <tr>\n",
              "      <th>2</th>\n",
              "      <td>RandomForestClassifier</td>\n",
              "      <td>2</td>\n",
              "      <td>0.828859</td>\n",
              "    </tr>\n",
              "    <tr>\n",
              "      <th>3</th>\n",
              "      <td>RandomForestClassifier</td>\n",
              "      <td>3</td>\n",
              "      <td>0.875839</td>\n",
              "    </tr>\n",
              "    <tr>\n",
              "      <th>4</th>\n",
              "      <td>RandomForestClassifier</td>\n",
              "      <td>4</td>\n",
              "      <td>0.879195</td>\n",
              "    </tr>\n",
              "    <tr>\n",
              "      <th>5</th>\n",
              "      <td>MultinomialNB</td>\n",
              "      <td>0</td>\n",
              "      <td>0.969799</td>\n",
              "    </tr>\n",
              "    <tr>\n",
              "      <th>6</th>\n",
              "      <td>MultinomialNB</td>\n",
              "      <td>1</td>\n",
              "      <td>0.959732</td>\n",
              "    </tr>\n",
              "    <tr>\n",
              "      <th>7</th>\n",
              "      <td>MultinomialNB</td>\n",
              "      <td>2</td>\n",
              "      <td>0.983221</td>\n",
              "    </tr>\n",
              "    <tr>\n",
              "      <th>8</th>\n",
              "      <td>MultinomialNB</td>\n",
              "      <td>3</td>\n",
              "      <td>0.979866</td>\n",
              "    </tr>\n",
              "    <tr>\n",
              "      <th>9</th>\n",
              "      <td>MultinomialNB</td>\n",
              "      <td>4</td>\n",
              "      <td>0.969799</td>\n",
              "    </tr>\n",
              "    <tr>\n",
              "      <th>10</th>\n",
              "      <td>LogisticRegression</td>\n",
              "      <td>0</td>\n",
              "      <td>0.973154</td>\n",
              "    </tr>\n",
              "    <tr>\n",
              "      <th>11</th>\n",
              "      <td>LogisticRegression</td>\n",
              "      <td>1</td>\n",
              "      <td>0.963087</td>\n",
              "    </tr>\n",
              "    <tr>\n",
              "      <th>12</th>\n",
              "      <td>LogisticRegression</td>\n",
              "      <td>2</td>\n",
              "      <td>0.983221</td>\n",
              "    </tr>\n",
              "    <tr>\n",
              "      <th>13</th>\n",
              "      <td>LogisticRegression</td>\n",
              "      <td>3</td>\n",
              "      <td>0.979866</td>\n",
              "    </tr>\n",
              "    <tr>\n",
              "      <th>14</th>\n",
              "      <td>LogisticRegression</td>\n",
              "      <td>4</td>\n",
              "      <td>0.976510</td>\n",
              "    </tr>\n",
              "  </tbody>\n",
              "</table>\n",
              "</div>\n",
              "      <button class=\"colab-df-convert\" onclick=\"convertToInteractive('df-dbdeb9c9-8fd9-4c4f-a0f4-233c4469ff0e')\"\n",
              "              title=\"Convert this dataframe to an interactive table.\"\n",
              "              style=\"display:none;\">\n",
              "        \n",
              "  <svg xmlns=\"http://www.w3.org/2000/svg\" height=\"24px\"viewBox=\"0 0 24 24\"\n",
              "       width=\"24px\">\n",
              "    <path d=\"M0 0h24v24H0V0z\" fill=\"none\"/>\n",
              "    <path d=\"M18.56 5.44l.94 2.06.94-2.06 2.06-.94-2.06-.94-.94-2.06-.94 2.06-2.06.94zm-11 1L8.5 8.5l.94-2.06 2.06-.94-2.06-.94L8.5 2.5l-.94 2.06-2.06.94zm10 10l.94 2.06.94-2.06 2.06-.94-2.06-.94-.94-2.06-.94 2.06-2.06.94z\"/><path d=\"M17.41 7.96l-1.37-1.37c-.4-.4-.92-.59-1.43-.59-.52 0-1.04.2-1.43.59L10.3 9.45l-7.72 7.72c-.78.78-.78 2.05 0 2.83L4 21.41c.39.39.9.59 1.41.59.51 0 1.02-.2 1.41-.59l7.78-7.78 2.81-2.81c.8-.78.8-2.07 0-2.86zM5.41 20L4 18.59l7.72-7.72 1.47 1.35L5.41 20z\"/>\n",
              "  </svg>\n",
              "      </button>\n",
              "      \n",
              "  <style>\n",
              "    .colab-df-container {\n",
              "      display:flex;\n",
              "      flex-wrap:wrap;\n",
              "      gap: 12px;\n",
              "    }\n",
              "\n",
              "    .colab-df-convert {\n",
              "      background-color: #E8F0FE;\n",
              "      border: none;\n",
              "      border-radius: 50%;\n",
              "      cursor: pointer;\n",
              "      display: none;\n",
              "      fill: #1967D2;\n",
              "      height: 32px;\n",
              "      padding: 0 0 0 0;\n",
              "      width: 32px;\n",
              "    }\n",
              "\n",
              "    .colab-df-convert:hover {\n",
              "      background-color: #E2EBFA;\n",
              "      box-shadow: 0px 1px 2px rgba(60, 64, 67, 0.3), 0px 1px 3px 1px rgba(60, 64, 67, 0.15);\n",
              "      fill: #174EA6;\n",
              "    }\n",
              "\n",
              "    [theme=dark] .colab-df-convert {\n",
              "      background-color: #3B4455;\n",
              "      fill: #D2E3FC;\n",
              "    }\n",
              "\n",
              "    [theme=dark] .colab-df-convert:hover {\n",
              "      background-color: #434B5C;\n",
              "      box-shadow: 0px 1px 3px 1px rgba(0, 0, 0, 0.15);\n",
              "      filter: drop-shadow(0px 1px 2px rgba(0, 0, 0, 0.3));\n",
              "      fill: #FFFFFF;\n",
              "    }\n",
              "  </style>\n",
              "\n",
              "      <script>\n",
              "        const buttonEl =\n",
              "          document.querySelector('#df-dbdeb9c9-8fd9-4c4f-a0f4-233c4469ff0e button.colab-df-convert');\n",
              "        buttonEl.style.display =\n",
              "          google.colab.kernel.accessAllowed ? 'block' : 'none';\n",
              "\n",
              "        async function convertToInteractive(key) {\n",
              "          const element = document.querySelector('#df-dbdeb9c9-8fd9-4c4f-a0f4-233c4469ff0e');\n",
              "          const dataTable =\n",
              "            await google.colab.kernel.invokeFunction('convertToInteractive',\n",
              "                                                     [key], {});\n",
              "          if (!dataTable) return;\n",
              "\n",
              "          const docLinkHtml = 'Like what you see? Visit the ' +\n",
              "            '<a target=\"_blank\" href=https://colab.research.google.com/notebooks/data_table.ipynb>data table notebook</a>'\n",
              "            + ' to learn more about interactive tables.';\n",
              "          element.innerHTML = '';\n",
              "          dataTable['output_type'] = 'display_data';\n",
              "          await google.colab.output.renderOutput(dataTable, element);\n",
              "          const docLink = document.createElement('div');\n",
              "          docLink.innerHTML = docLinkHtml;\n",
              "          element.appendChild(docLink);\n",
              "        }\n",
              "      </script>\n",
              "    </div>\n",
              "  </div>\n",
              "  "
            ]
          },
          "metadata": {},
          "execution_count": 33
        }
      ]
    },
    {
      "cell_type": "code",
      "source": [
        "from sklearn.model_selection import train_test_split\n",
        "\n",
        "model = LogisticRegression(random_state=0)\n",
        "X_train, X_test, y_train, y_test, indices_train, indices_test = train_test_split(features, labels, df.index, test_size=0.33, random_state=0)\n",
        "model.fit(X_train, y_train)\n",
        "y_pred_proba = model.predict_proba(X_test)\n",
        "y_pred = model.predict(X_test)"
      ],
      "metadata": {
        "id": "SMjedYz77vS0"
      },
      "execution_count": 35,
      "outputs": []
    },
    {
      "cell_type": "code",
      "source": [
        "from sklearn.metrics import confusion_matrix\n",
        "import seaborn as sns\n",
        "\n",
        "conf_mat = confusion_matrix(y_test, y_pred)\n",
        "sns.heatmap(conf_mat, annot=True, fmt='d',\n",
        "            xticklabels=category_id_df.Category.values, yticklabels=category_id_df.Category.values)\n",
        "plt.ylabel('Actual')\n",
        "plt.xlabel('Predicted')"
      ],
      "metadata": {
        "colab": {
          "base_uri": "https://localhost:8080/",
          "height": 297
        },
        "id": "Vej66ejv76fn",
        "outputId": "13259e9c-f930-47a2-f261-648c36046256"
      },
      "execution_count": 36,
      "outputs": [
        {
          "output_type": "execute_result",
          "data": {
            "text/plain": [
              "Text(0.5, 15.0, 'Predicted')"
            ]
          },
          "metadata": {},
          "execution_count": 36
        },
        {
          "output_type": "display_data",
          "data": {
            "text/plain": [
              "<Figure size 432x288 with 2 Axes>"
            ],
            "image/png": "[encoded data removed]"
          },
          "metadata": {
            "needs_background": "light"
          }
        }
      ]
    },
    {
      "cell_type": "code",
      "source": [
        "from IPython.display import display\n",
        "\n",
        "for predicted in category_id_df.category_id:\n",
        "  for actual in category_id_df.category_id:\n",
        "    if predicted != actual and conf_mat[actual, predicted] >= 2:\n",
        "      print(\"'{}' predicted as '{}' : {} examples.\".format(id_to_category[actual], id_to_category[predicted], conf_mat[actual, predicted]))\n",
        "      display(df.loc[indices_test[(y_test == actual) & (y_pred == predicted)]]['Text'])\n",
        "      print('')"
      ],
      "metadata": {
        "colab": {
          "base_uri": "https://localhost:8080/",
          "height": 382
        },
        "id": "jQ5XvBDQ8f6m",
        "outputId": "85519e01-52b4-468d-d260-2701d30c8511"
      },
      "execution_count": 39,
      "outputs": [
        {
          "output_type": "stream",
          "name": "stdout",
          "text": [
            "'tech' predicted as 'business' : 2 examples.\n"
          ]
        },
        {
          "output_type": "display_data",
          "data": {
            "text/plain": [
              "641    us woman sues over cartridges a us woman is su...\n",
              "549    man auctions ad space on forehead a 20-year-ol...\n",
              "Name: Text, dtype: object"
            ]
          },
          "metadata": {}
        },
        {
          "output_type": "stream",
          "name": "stdout",
          "text": [
            "\n",
            "'politics' predicted as 'business' : 2 examples.\n"
          ]
        },
        {
          "output_type": "display_data",
          "data": {
            "text/plain": [
              "962    hatfield executives go on trial engineering fi...\n",
              "249    eu fraud clampdown urged eu member states are ...\n",
              "Name: Text, dtype: object"
            ]
          },
          "metadata": {}
        },
        {
          "output_type": "stream",
          "name": "stdout",
          "text": [
            "\n",
            "'business' predicted as 'sport' : 2 examples.\n"
          ]
        },
        {
          "output_type": "display_data",
          "data": {
            "text/plain": [
              "61     arsenal  may seek full share listing  arsenal ...\n",
              "728    christmas shoppers flock to tills shops all ov...\n",
              "Name: Text, dtype: object"
            ]
          },
          "metadata": {}
        },
        {
          "output_type": "stream",
          "name": "stdout",
          "text": [
            "\n",
            "'tech' predicted as 'entertainment' : 2 examples.\n"
          ]
        },
        {
          "output_type": "display_data",
          "data": {
            "text/plain": [
              "1091    ultimate game  award for doom 3 sci-fi shooter...\n",
              "1115    ultimate game  award for doom 3 sci-fi shooter...\n",
              "Name: Text, dtype: object"
            ]
          },
          "metadata": {}
        },
        {
          "output_type": "stream",
          "name": "stdout",
          "text": [
            "\n"
          ]
        }
      ]
    },
    {
      "cell_type": "code",
      "source": [
        "model.fit(features, labels)"
      ],
      "metadata": {
        "colab": {
          "base_uri": "https://localhost:8080/"
        },
        "id": "grY8MrY-8BPR",
        "outputId": "5a402718-a8c0-4df9-f9fb-531fbc8137ff"
      },
      "execution_count": 40,
      "outputs": [
        {
          "output_type": "execute_result",
          "data": {
            "text/plain": [
              "LogisticRegression(random_state=0)"
            ]
          },
          "metadata": {},
          "execution_count": 40
        }
      ]
    },
    {
      "cell_type": "code",
      "source": [
        "model.coef_"
      ],
      "metadata": {
        "colab": {
          "base_uri": "https://localhost:8080/"
        },
        "id": "ItOLNdbT8X3-",
        "outputId": "c1ee7699-2eb9-470f-a037-ae3c2383d027"
      },
      "execution_count": 41,
      "outputs": [
        {
          "output_type": "execute_result",
          "data": {
            "text/plain": [
              "array([[ 0.46799432,  0.01813872, -0.0715333 , ..., -0.03318298,\n",
              "         0.0068823 , -0.02849203],\n",
              "       [-0.02957523, -0.04366737, -0.01371468, ...,  0.00362675,\n",
              "        -0.02877942, -0.02070068],\n",
              "       [ 0.05006025, -0.05159908, -0.04674601, ..., -0.00638322,\n",
              "        -0.03112648, -0.02362395],\n",
              "       [-0.61687406, -0.04152046, -0.05352312, ...,  0.08450437,\n",
              "         0.08574049,  0.09981232],\n",
              "       [ 0.12839471,  0.11864819,  0.18551711, ..., -0.04856492,\n",
              "        -0.03271689, -0.02699566]])"
            ]
          },
          "metadata": {},
          "execution_count": 41
        }
      ]
    },
    {
      "cell_type": "code",
      "source": [
        "from sklearn.feature_selection import chi2\n",
        "\n",
        "N = 5\n",
        "for Category, category_id in sorted(category_to_id.items()):\n",
        "  indices = np.argsort(model.coef_[category_id])  \n",
        "  feature_names = np.array(tfidf.get_feature_names())[indices]\n",
        "  unigrams = [v for v in reversed(feature_names) if len(v.split(' ')) == 1][:N]\n",
        "  bigrams = [v for v in reversed(feature_names) if len(v.split(' ')) == 2][:N]\n",
        "  print(\"# '{}':\".format(Category))\n",
        "  print(\"  . Top unigrams:\\n       . {}\".format('\\n       . '.join(unigrams)))\n",
        "  print(\"  . Top bigrams:\\n       . {}\".format('\\n       . '.join(bigrams)))"
      ],
      "metadata": {
        "colab": {
          "base_uri": "https://localhost:8080/"
        },
        "id": "0LJQNtoz8srY",
        "outputId": "9f266afb-076e-4fe6-fcab-287f34bb872b"
      },
      "execution_count": 42,
      "outputs": [
        {
          "output_type": "stream",
          "name": "stderr",
          "text": [
            "/usr/local/lib/python3.7/dist-packages/sklearn/utils/deprecation.py:87: FutureWarning: Function get_feature_names is deprecated; get_feature_names is deprecated in 1.0 and will be removed in 1.2. Please use get_feature_names_out instead.\n",
            "  warnings.warn(msg, category=FutureWarning)\n"
          ]
        },
        {
          "output_type": "stream",
          "name": "stdout",
          "text": [
            "# 'business':\n",
            "  . Top unigrams:\n",
            "       . firm\n",
            "       . bank\n",
            "       . company\n",
            "       . shares\n",
            "       . market\n",
            "  . Top bigrams:\n",
            "       . chief executive\n",
            "       . analysts said\n",
            "       . stock market\n",
            "       . economic growth\n",
            "       . oil prices\n",
            "# 'entertainment':\n",
            "  . Top unigrams:\n",
            "       . film\n",
            "       . music\n",
            "       . singer\n",
            "       . star\n",
            "       . band\n",
            "  . Top bigrams:\n",
            "       . box office\n",
            "       . los angeles\n",
            "       . film festival\n",
            "       . new york\n",
            "       . big brother\n",
            "# 'politics':\n",
            "  . Top unigrams:\n",
            "       . labour\n",
            "       . mr\n",
            "       . party\n",
            "       . election\n",
            "       . government\n",
            "  . Top bigrams:\n",
            "       . mr blair\n",
            "       . prime minister\n",
            "       . tony blair\n",
            "       . general election\n",
            "       . mr brown\n",
            "# 'sport':\n",
            "  . Top unigrams:\n",
            "       . match\n",
            "       . win\n",
            "       . game\n",
            "       . coach\n",
            "       . cup\n",
            "  . Top bigrams:\n",
            "       . year old\n",
            "       . australian open\n",
            "       . champions league\n",
            "       . world cup\n",
            "       . grand slam\n",
            "# 'tech':\n",
            "  . Top unigrams:\n",
            "       . users\n",
            "       . software\n",
            "       . computer\n",
            "       . technology\n",
            "       . online\n",
            "  . Top bigrams:\n",
            "       . said mr\n",
            "       . news website\n",
            "       . bbc news\n",
            "       . mobile phone\n",
            "       . mobile phones\n"
          ]
        }
      ]
    },
    {
      "cell_type": "code",
      "source": [],
      "metadata": {
        "id": "xVVLfVEX8tOd"
      },
      "execution_count": null,
      "outputs": []
    }
  ]
}